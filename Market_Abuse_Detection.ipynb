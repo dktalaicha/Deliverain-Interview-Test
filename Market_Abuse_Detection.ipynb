{
 "cells": [
  {
   "cell_type": "markdown",
   "metadata": {},
   "source": [
    "# Market Abuse Detection"
   ]
  },
  {
   "cell_type": "markdown",
   "metadata": {},
   "source": [
    "## Objective\n",
    "\n",
    "In this task we need to retrieve stock data for Amazon and analyse some client \n",
    "data in order to find some suspicious behaviours."
   ]
  },
  {
   "cell_type": "markdown",
   "metadata": {},
   "source": [
    "## Importing required libraries"
   ]
  },
  {
   "cell_type": "code",
   "execution_count": 1,
   "metadata": {},
   "outputs": [
    {
     "name": "stdout",
     "output_type": "stream",
     "text": [
      "Numpy version : Numpy 1.18.5\n",
      "Pandas version : Pandas 1.0.5\n",
      "Matplotlib version : Matplotlib 3.2.2\n",
      "Seaborn version : Seaborn 0.10.1\n"
     ]
    }
   ],
   "source": [
    "import numpy as np\n",
    "import pandas as pd\n",
    "import matplotlib\n",
    "\n",
    "import seaborn as sns\n",
    "import matplotlib.pyplot as plt\n",
    "\n",
    "# For reading stock data from yahoo\n",
    "import pandas_datareader.data as pdr\n",
    "\n",
    "# For time stamps\n",
    "from datetime import datetime\n",
    "\n",
    "# Print versions of libraries\n",
    "print(f\"Numpy version : Numpy {np.__version__}\")\n",
    "print(f\"Pandas version : Pandas {pd.__version__}\")\n",
    "print(f\"Matplotlib version : Matplotlib {matplotlib.__version__}\")\n",
    "print(f\"Seaborn version : Seaborn {sns.__version__}\")\n",
    "\n",
    "# Magic Functions for In-Notebook Display\n",
    "%matplotlib inline\n",
    "\n",
    "# Setting seabon style\n",
    "sns.set(style='darkgrid', palette='colorblind')\n",
    "\n",
    "# Supressing the warning messages\n",
    "import warnings\n",
    "warnings.filterwarnings('ignore')"
   ]
  },
  {
   "cell_type": "markdown",
   "metadata": {},
   "source": [
    "# Stock Dataset"
   ]
  },
  {
   "cell_type": "markdown",
   "metadata": {},
   "source": [
    "### Import Stock Dataset\n",
    "Downloading Amazon stock data from Yahoo for the months of February and March 2020"
   ]
  },
  {
   "cell_type": "code",
   "execution_count": 2,
   "metadata": {},
   "outputs": [],
   "source": [
    "def get_stock_data(filename='stock_data.csv',stock = \"AMZN\", start_date = '2020-02-01',end_date = '2020-03-31',\n",
    "                   force_download=False):\n",
    "    \"\"\"\n",
    "    Download and cache the stock data\n",
    "    \n",
    "    Parameters\n",
    "    ----------\n",
    "    filename : string (optional)\n",
    "        location to save the data\n",
    "    stock : string (optional)\n",
    "        company name of which stock data want to download from yahoo api.\n",
    "    start_date : string (optional)\n",
    "        date from where stock data should download\n",
    "    end_date : string (optional)\n",
    "        date till where stock data should download\n",
    "    force_download : bool (optional)\n",
    "        if True, force re-download of data from Yahoo API else read from local\n",
    "        \n",
    "    Returns\n",
    "    -------\n",
    "    data : pandas.DataFrame\n",
    "        The company Stock data\n",
    "    \"\"\"\n",
    "    \n",
    "    if force_download:\n",
    "        # Grabing yahoo finance data and setting as a dataframe\n",
    "        stock_data = pdr.DataReader(stock, 'yahoo', start_date, end_date)\n",
    "        # Save the stock data in form of .csv to local \n",
    "        stock_data.to_csv(filename)\n",
    "        \n",
    "    # force_download is false, then read data from local\n",
    "    stock_data = pd.read_csv(filename, index_col='Date')\n",
    "\n",
    "    try:\n",
    "        stock_data.index = pd.to_datetime(stock_data.index, format='%Y-%m-%d')\n",
    "    except TypeError:\n",
    "        stock_data.index = pd.to_datetime(stock_data.index)\n",
    "\n",
    "    return stock_data"
   ]
  },
  {
   "cell_type": "code",
   "execution_count": 3,
   "metadata": {},
   "outputs": [
    {
     "name": "stdout",
     "output_type": "stream",
     "text": [
      "\n",
      "    Download and cache the stock data\n",
      "    \n",
      "    Parameters\n",
      "    ----------\n",
      "    filename : string (optional)\n",
      "        location to save the data\n",
      "    stock : string (optional)\n",
      "        company name of which stock data want to download from yahoo api.\n",
      "    start_date : string (optional)\n",
      "        date from where stock data should download\n",
      "    end_date : string (optional)\n",
      "        date till where stock data should download\n",
      "    force_download : bool (optional)\n",
      "        if True, force re-download of data from Yahoo API else read from local\n",
      "        \n",
      "    Returns\n",
      "    -------\n",
      "    data : pandas.DataFrame\n",
      "        The company Stock data\n",
      "    \n"
     ]
    }
   ],
   "source": [
    "# Print docstrings of method \n",
    "print(get_stock_data.__doc__)"
   ]
  },
  {
   "cell_type": "code",
   "execution_count": 4,
   "metadata": {},
   "outputs": [],
   "source": [
    "# get_stock_data?"
   ]
  },
  {
   "cell_type": "code",
   "execution_count": 5,
   "metadata": {},
   "outputs": [],
   "source": [
    "# collect data for Amazon from 2020-02-01 to 2020-03-31\n",
    "stock_data = get_stock_data(filename='stock_data.csv',stock = \"AMZN\", \n",
    "                            start_date = '2020-02-01',end_date = '2020-03-31',force_download=False)"
   ]
  },
  {
   "cell_type": "code",
   "execution_count": 6,
   "metadata": {},
   "outputs": [
    {
     "data": {
      "text/html": [
       "<div>\n",
       "<style scoped>\n",
       "    .dataframe tbody tr th:only-of-type {\n",
       "        vertical-align: middle;\n",
       "    }\n",
       "\n",
       "    .dataframe tbody tr th {\n",
       "        vertical-align: top;\n",
       "    }\n",
       "\n",
       "    .dataframe thead th {\n",
       "        text-align: right;\n",
       "    }\n",
       "</style>\n",
       "<table border=\"1\" class=\"dataframe\">\n",
       "  <thead>\n",
       "    <tr style=\"text-align: right;\">\n",
       "      <th></th>\n",
       "      <th>High</th>\n",
       "      <th>Low</th>\n",
       "      <th>Open</th>\n",
       "      <th>Close</th>\n",
       "      <th>Volume</th>\n",
       "      <th>Adj Close</th>\n",
       "    </tr>\n",
       "    <tr>\n",
       "      <th>Date</th>\n",
       "      <th></th>\n",
       "      <th></th>\n",
       "      <th></th>\n",
       "      <th></th>\n",
       "      <th></th>\n",
       "      <th></th>\n",
       "    </tr>\n",
       "  </thead>\n",
       "  <tbody>\n",
       "    <tr>\n",
       "      <th>2020-01-31</th>\n",
       "      <td>2055.719971</td>\n",
       "      <td>2002.270020</td>\n",
       "      <td>2051.469971</td>\n",
       "      <td>2008.719971</td>\n",
       "      <td>15567300</td>\n",
       "      <td>2008.719971</td>\n",
       "    </tr>\n",
       "    <tr>\n",
       "      <th>2020-02-03</th>\n",
       "      <td>2048.500000</td>\n",
       "      <td>2000.250000</td>\n",
       "      <td>2010.599976</td>\n",
       "      <td>2004.199951</td>\n",
       "      <td>5899100</td>\n",
       "      <td>2004.199951</td>\n",
       "    </tr>\n",
       "    <tr>\n",
       "      <th>2020-02-04</th>\n",
       "      <td>2059.800049</td>\n",
       "      <td>2015.369995</td>\n",
       "      <td>2029.880005</td>\n",
       "      <td>2049.669922</td>\n",
       "      <td>5289300</td>\n",
       "      <td>2049.669922</td>\n",
       "    </tr>\n",
       "    <tr>\n",
       "      <th>2020-02-05</th>\n",
       "      <td>2071.020020</td>\n",
       "      <td>2032.000000</td>\n",
       "      <td>2071.020020</td>\n",
       "      <td>2039.869995</td>\n",
       "      <td>4376200</td>\n",
       "      <td>2039.869995</td>\n",
       "    </tr>\n",
       "    <tr>\n",
       "      <th>2020-02-06</th>\n",
       "      <td>2056.300049</td>\n",
       "      <td>2024.800049</td>\n",
       "      <td>2041.020020</td>\n",
       "      <td>2050.229980</td>\n",
       "      <td>3183000</td>\n",
       "      <td>2050.229980</td>\n",
       "    </tr>\n",
       "  </tbody>\n",
       "</table>\n",
       "</div>"
      ],
      "text/plain": [
       "                   High          Low         Open        Close    Volume  \\\n",
       "Date                                                                       \n",
       "2020-01-31  2055.719971  2002.270020  2051.469971  2008.719971  15567300   \n",
       "2020-02-03  2048.500000  2000.250000  2010.599976  2004.199951   5899100   \n",
       "2020-02-04  2059.800049  2015.369995  2029.880005  2049.669922   5289300   \n",
       "2020-02-05  2071.020020  2032.000000  2071.020020  2039.869995   4376200   \n",
       "2020-02-06  2056.300049  2024.800049  2041.020020  2050.229980   3183000   \n",
       "\n",
       "              Adj Close  \n",
       "Date                     \n",
       "2020-01-31  2008.719971  \n",
       "2020-02-03  2004.199951  \n",
       "2020-02-04  2049.669922  \n",
       "2020-02-05  2039.869995  \n",
       "2020-02-06  2050.229980  "
      ]
     },
     "execution_count": 6,
     "metadata": {},
     "output_type": "execute_result"
    }
   ],
   "source": [
    "# Looking at sample rows in the data\n",
    "stock_data.head()"
   ]
  },
  {
   "cell_type": "code",
   "execution_count": 7,
   "metadata": {},
   "outputs": [
    {
     "data": {
      "text/plain": [
       "dtype('<M8[ns]')"
      ]
     },
     "execution_count": 7,
     "metadata": {},
     "output_type": "execute_result"
    }
   ],
   "source": [
    "stock_data.index.dtype"
   ]
  },
  {
   "cell_type": "code",
   "execution_count": 8,
   "metadata": {},
   "outputs": [
    {
     "data": {
      "text/plain": [
       "Index(['High', 'Low', 'Open', 'Close', 'Volume', 'Adj Close'], dtype='object')"
      ]
     },
     "execution_count": 8,
     "metadata": {},
     "output_type": "execute_result"
    }
   ],
   "source": [
    "stock_data.columns"
   ]
  },
  {
   "cell_type": "markdown",
   "metadata": {},
   "source": [
    "### Move date from index to  columns\n",
    "Pandas dataframes have an index that is used for grouping and fast lookups. The index is not considered one of the columns. To move the dates from the index to the columns, we can use reset_index(), which will make Date a column and make the index just a sequence of numbers counting up from 0."
   ]
  },
  {
   "cell_type": "code",
   "execution_count": 9,
   "metadata": {},
   "outputs": [],
   "source": [
    "stock_data.reset_index(inplace=True)"
   ]
  },
  {
   "cell_type": "code",
   "execution_count": 10,
   "metadata": {},
   "outputs": [],
   "source": [
    "# Converting all column names to lower case\n",
    "stock_data.columns = stock_data.columns.str.lower()"
   ]
  },
  {
   "cell_type": "markdown",
   "metadata": {},
   "source": [
    "### Exploratory Data Analysis\n",
    "Once the data is read into python, we need to explore/clean/filter it before processing it"
   ]
  },
  {
   "cell_type": "markdown",
   "metadata": {},
   "source": [
    "#### Checking concise summary of dataset\n",
    "It is also a good practice to know the features and their corresponding data types, along with finding whether they contain null values or not."
   ]
  },
  {
   "cell_type": "code",
   "execution_count": 11,
   "metadata": {},
   "outputs": [
    {
     "name": "stdout",
     "output_type": "stream",
     "text": [
      "<class 'pandas.core.frame.DataFrame'>\n",
      "RangeIndex: 42 entries, 0 to 41\n",
      "Data columns (total 7 columns):\n",
      " #   Column     Non-Null Count  Dtype         \n",
      "---  ------     --------------  -----         \n",
      " 0   date       42 non-null     datetime64[ns]\n",
      " 1   high       42 non-null     float64       \n",
      " 2   low        42 non-null     float64       \n",
      " 3   open       42 non-null     float64       \n",
      " 4   close      42 non-null     float64       \n",
      " 5   volume     42 non-null     int64         \n",
      " 6   adj close  42 non-null     float64       \n",
      "dtypes: datetime64[ns](1), float64(5), int64(1)\n",
      "memory usage: 2.4 KB\n"
     ]
    }
   ],
   "source": [
    "# Observing the summarized information of data\n",
    "# Data types, Missing values based on number of non-null values Vs total rows etc.\n",
    "stock_data.info()"
   ]
  },
  {
   "cell_type": "markdown",
   "metadata": {},
   "source": [
    "**Highlights**\n",
    "\n",
    "* Dataset contains details of 42 days of stock price for Amazon in 7 features.\n",
    "* There is no missing data in dataset, every column contain exactly 42 rows.\n",
    "* Data type for 'date' is datetime64 which is required to compare the dates.\n",
    "* Memory Usage: 2.4 KB"
   ]
  },
  {
   "cell_type": "markdown",
   "metadata": {},
   "source": [
    "#### Delete duplicate data"
   ]
  },
  {
   "cell_type": "code",
   "execution_count": 12,
   "metadata": {},
   "outputs": [
    {
     "name": "stdout",
     "output_type": "stream",
     "text": [
      "Shape before deleting duplicate values: (42, 7)\n",
      "Shape After deleting duplicate values: (42, 7)\n"
     ]
    }
   ],
   "source": [
    "# Checking duplicate data\n",
    "print('Shape before deleting duplicate values:', stock_data.shape)\n",
    "\n",
    "# Removing duplicate rows if any\n",
    "stock_data = stock_data.drop_duplicates()\n",
    "print('Shape After deleting duplicate values:', stock_data.shape)"
   ]
  },
  {
   "cell_type": "markdown",
   "metadata": {},
   "source": [
    "#### Generate descriptive statistics\n",
    "The describe() function generates descriptive statistics that summarize the central tendency, dispersion and shape of a dataset's distribution, excluding NaN values."
   ]
  },
  {
   "cell_type": "code",
   "execution_count": 13,
   "metadata": {},
   "outputs": [
    {
     "data": {
      "text/html": [
       "<div>\n",
       "<style scoped>\n",
       "    .dataframe tbody tr th:only-of-type {\n",
       "        vertical-align: middle;\n",
       "    }\n",
       "\n",
       "    .dataframe tbody tr th {\n",
       "        vertical-align: top;\n",
       "    }\n",
       "\n",
       "    .dataframe thead th {\n",
       "        text-align: right;\n",
       "    }\n",
       "</style>\n",
       "<table border=\"1\" class=\"dataframe\">\n",
       "  <thead>\n",
       "    <tr style=\"text-align: right;\">\n",
       "      <th></th>\n",
       "      <th>high</th>\n",
       "      <th>low</th>\n",
       "      <th>open</th>\n",
       "      <th>close</th>\n",
       "      <th>volume</th>\n",
       "      <th>adj close</th>\n",
       "    </tr>\n",
       "  </thead>\n",
       "  <tbody>\n",
       "    <tr>\n",
       "      <th>count</th>\n",
       "      <td>42.000000</td>\n",
       "      <td>42.000000</td>\n",
       "      <td>42.000000</td>\n",
       "      <td>42.000000</td>\n",
       "      <td>4.200000e+01</td>\n",
       "      <td>42.000000</td>\n",
       "    </tr>\n",
       "    <tr>\n",
       "      <th>mean</th>\n",
       "      <td>1997.033587</td>\n",
       "      <td>1928.853338</td>\n",
       "      <td>1959.332374</td>\n",
       "      <td>1963.259039</td>\n",
       "      <td>6.473969e+06</td>\n",
       "      <td>1963.259039</td>\n",
       "    </tr>\n",
       "    <tr>\n",
       "      <th>std</th>\n",
       "      <td>119.026586</td>\n",
       "      <td>143.603719</td>\n",
       "      <td>136.401280</td>\n",
       "      <td>128.808825</td>\n",
       "      <td>2.727553e+06</td>\n",
       "      <td>128.808825</td>\n",
       "    </tr>\n",
       "    <tr>\n",
       "      <th>min</th>\n",
       "      <td>1759.449951</td>\n",
       "      <td>1626.030029</td>\n",
       "      <td>1641.510010</td>\n",
       "      <td>1676.609985</td>\n",
       "      <td>2.561200e+06</td>\n",
       "      <td>1676.609985</td>\n",
       "    </tr>\n",
       "    <tr>\n",
       "      <th>25%</th>\n",
       "      <td>1924.497528</td>\n",
       "      <td>1823.709991</td>\n",
       "      <td>1871.910004</td>\n",
       "      <td>1884.685028</td>\n",
       "      <td>4.843725e+06</td>\n",
       "      <td>1884.685028</td>\n",
       "    </tr>\n",
       "    <tr>\n",
       "      <th>50%</th>\n",
       "      <td>1976.500000</td>\n",
       "      <td>1911.169983</td>\n",
       "      <td>1949.034973</td>\n",
       "      <td>1954.719971</td>\n",
       "      <td>6.012600e+06</td>\n",
       "      <td>1954.719971</td>\n",
       "    </tr>\n",
       "    <tr>\n",
       "      <th>75%</th>\n",
       "      <td>2068.215027</td>\n",
       "      <td>2030.200012</td>\n",
       "      <td>2049.099976</td>\n",
       "      <td>2050.089966</td>\n",
       "      <td>7.812025e+06</td>\n",
       "      <td>2050.089966</td>\n",
       "    </tr>\n",
       "    <tr>\n",
       "      <th>max</th>\n",
       "      <td>2185.949951</td>\n",
       "      <td>2161.120117</td>\n",
       "      <td>2173.070068</td>\n",
       "      <td>2170.219971</td>\n",
       "      <td>1.556730e+07</td>\n",
       "      <td>2170.219971</td>\n",
       "    </tr>\n",
       "  </tbody>\n",
       "</table>\n",
       "</div>"
      ],
      "text/plain": [
       "              high          low         open        close        volume  \\\n",
       "count    42.000000    42.000000    42.000000    42.000000  4.200000e+01   \n",
       "mean   1997.033587  1928.853338  1959.332374  1963.259039  6.473969e+06   \n",
       "std     119.026586   143.603719   136.401280   128.808825  2.727553e+06   \n",
       "min    1759.449951  1626.030029  1641.510010  1676.609985  2.561200e+06   \n",
       "25%    1924.497528  1823.709991  1871.910004  1884.685028  4.843725e+06   \n",
       "50%    1976.500000  1911.169983  1949.034973  1954.719971  6.012600e+06   \n",
       "75%    2068.215027  2030.200012  2049.099976  2050.089966  7.812025e+06   \n",
       "max    2185.949951  2161.120117  2173.070068  2170.219971  1.556730e+07   \n",
       "\n",
       "         adj close  \n",
       "count    42.000000  \n",
       "mean   1963.259039  \n",
       "std     128.808825  \n",
       "min    1676.609985  \n",
       "25%    1884.685028  \n",
       "50%    1954.719971  \n",
       "75%    2050.089966  \n",
       "max    2170.219971  "
      ]
     },
     "execution_count": 13,
     "metadata": {},
     "output_type": "execute_result"
    }
   ],
   "source": [
    "# Looking at the descriptive statistics of the data\n",
    "# stock_data.describe(include='all')\n",
    "stock_data.describe()"
   ]
  },
  {
   "cell_type": "code",
   "execution_count": 14,
   "metadata": {},
   "outputs": [
    {
     "data": {
      "text/plain": [
       "date         42\n",
       "high         42\n",
       "low          42\n",
       "open         42\n",
       "close        42\n",
       "volume       42\n",
       "adj close    42\n",
       "dtype: int64"
      ]
     },
     "execution_count": 14,
     "metadata": {},
     "output_type": "execute_result"
    }
   ],
   "source": [
    "# Finging unique values for each column\n",
    "# TO understand which column is categorical and which one is Continuous\n",
    "# Typically if the numer of unique values are < 20 then the variable is likely to be a category otherwise continuous\n",
    "stock_data.nunique()"
   ]
  },
  {
   "cell_type": "markdown",
   "metadata": {},
   "source": [
    "#### Trend of closing price in Feb & Mar"
   ]
  },
  {
   "cell_type": "code",
   "execution_count": 15,
   "metadata": {},
   "outputs": [
    {
     "data": {
      "image/png": "[encoded data removed]",
      "text/plain": [
       "<Figure size 720x432 with 1 Axes>"
      ]
     },
     "metadata": {},
     "output_type": "display_data"
    }
   ],
   "source": [
    "# Let's see a historical view of the Adj closing price\n",
    "\n",
    "plt.figure(figsize=(10,6))\n",
    "# stock_data.drop('Date', axis=1)['Adj Close'].plot()\n",
    "plt.plot(stock_data['date'],stock_data['adj close'],color='b', linewidth=1.5,marker='^',markersize=8,\n",
    "         linestyle='-',markerfacecolor='red')\n",
    "plt.title(\"Daywise closing price trend\")\n",
    "plt.xticks(rotation=45)\n",
    "plt.ylabel('Adj Close')\n",
    "plt.xlabel(None)\n",
    "plt.show()"
   ]
  },
  {
   "cell_type": "markdown",
   "metadata": {},
   "source": [
    "Broadly speaking, February month is better than March month for stock sellers."
   ]
  },
  {
   "cell_type": "markdown",
   "metadata": {},
   "source": [
    "#### Volume of stock being traded each day"
   ]
  },
  {
   "cell_type": "code",
   "execution_count": 16,
   "metadata": {},
   "outputs": [
    {
     "data": {
      "image/png": "[encoded data removed]",
      "text/plain": [
       "<Figure size 720x432 with 1 Axes>"
      ]
     },
     "metadata": {},
     "output_type": "display_data"
    }
   ],
   "source": [
    "# Now let's plot the total volume of stock being traded each day\n",
    "\n",
    "plt.figure(figsize=(10,6))\n",
    "plt.plot(stock_data['date'],stock_data['volume'],color='b', linewidth=1.5,marker='^',markersize=8,\n",
    "         linestyle='-',markerfacecolor='red')\n",
    "plt.title(\"Daywise volume trend\")\n",
    "plt.xticks(rotation=45)\n",
    "plt.ylabel('Volume')\n",
    "plt.xlabel('Date')\n",
    "plt.show()"
   ]
  },
  {
   "cell_type": "markdown",
   "metadata": {},
   "source": [
    "# Traders Data"
   ]
  },
  {
   "cell_type": "markdown",
   "metadata": {},
   "source": [
    "### Load the traders data from csv file"
   ]
  },
  {
   "cell_type": "code",
   "execution_count": 18,
   "metadata": {},
   "outputs": [
    {
     "data": {
      "text/html": [
       "<div>\n",
       "<style scoped>\n",
       "    .dataframe tbody tr th:only-of-type {\n",
       "        vertical-align: middle;\n",
       "    }\n",
       "\n",
       "    .dataframe tbody tr th {\n",
       "        vertical-align: top;\n",
       "    }\n",
       "\n",
       "    .dataframe thead th {\n",
       "        text-align: right;\n",
       "    }\n",
       "</style>\n",
       "<table border=\"1\" class=\"dataframe\">\n",
       "  <thead>\n",
       "    <tr style=\"text-align: right;\">\n",
       "      <th></th>\n",
       "      <th>countryCode</th>\n",
       "      <th>firstName</th>\n",
       "      <th>lastName</th>\n",
       "      <th>traderId</th>\n",
       "      <th>stockSymbol</th>\n",
       "      <th>stockName</th>\n",
       "      <th>tradeId</th>\n",
       "      <th>price</th>\n",
       "      <th>volume</th>\n",
       "      <th>tradeDatetime</th>\n",
       "    </tr>\n",
       "  </thead>\n",
       "  <tbody>\n",
       "    <tr>\n",
       "      <th>0</th>\n",
       "      <td>TV</td>\n",
       "      <td>Vanessa</td>\n",
       "      <td>Green</td>\n",
       "      <td>MUVGtYHdeMdauAxzEJvt</td>\n",
       "      <td>FB</td>\n",
       "      <td>Facebook</td>\n",
       "      <td>NaN</td>\n",
       "      <td>1701.76000</td>\n",
       "      <td>58.0</td>\n",
       "      <td>2020-04-03 07:03:32</td>\n",
       "    </tr>\n",
       "    <tr>\n",
       "      <th>1</th>\n",
       "      <td>NaN</td>\n",
       "      <td>NaN</td>\n",
       "      <td>NaN</td>\n",
       "      <td>NaN</td>\n",
       "      <td>FB</td>\n",
       "      <td>Facebook</td>\n",
       "      <td>P5-3756422C</td>\n",
       "      <td>NaN</td>\n",
       "      <td>98.0</td>\n",
       "      <td>2020-01-13 08:29:53</td>\n",
       "    </tr>\n",
       "    <tr>\n",
       "      <th>2</th>\n",
       "      <td>UZ</td>\n",
       "      <td>Brandi</td>\n",
       "      <td>Robbins</td>\n",
       "      <td>JTzVqzzIkFlrYUQbhnOR</td>\n",
       "      <td>AMZN</td>\n",
       "      <td>Amazon</td>\n",
       "      <td>X0-7401234c</td>\n",
       "      <td>1857.63056</td>\n",
       "      <td>NaN</td>\n",
       "      <td>2020-07-16 07:18:39</td>\n",
       "    </tr>\n",
       "    <tr>\n",
       "      <th>3</th>\n",
       "      <td>BT</td>\n",
       "      <td>Allison</td>\n",
       "      <td>Davis</td>\n",
       "      <td>TzqyQTQjZGeLZuJqlLaQ</td>\n",
       "      <td>AMZN</td>\n",
       "      <td>Amazon</td>\n",
       "      <td>K3-3189326K</td>\n",
       "      <td>2078.44030</td>\n",
       "      <td>32.0</td>\n",
       "      <td>2020-07-07 13:59:03</td>\n",
       "    </tr>\n",
       "    <tr>\n",
       "      <th>4</th>\n",
       "      <td>SZ</td>\n",
       "      <td>Blake</td>\n",
       "      <td>Martin</td>\n",
       "      <td>WVcMKILUHtBkEahrPLrG</td>\n",
       "      <td>FB</td>\n",
       "      <td>Facebook</td>\n",
       "      <td>U4-1266883G</td>\n",
       "      <td>1809.60000</td>\n",
       "      <td>212.0</td>\n",
       "      <td>2020-08-01 02:57:54</td>\n",
       "    </tr>\n",
       "  </tbody>\n",
       "</table>\n",
       "</div>"
      ],
      "text/plain": [
       "  countryCode firstName lastName              traderId stockSymbol stockName  \\\n",
       "0          TV   Vanessa    Green  MUVGtYHdeMdauAxzEJvt          FB  Facebook   \n",
       "1         NaN       NaN      NaN                   NaN          FB  Facebook   \n",
       "2          UZ    Brandi  Robbins  JTzVqzzIkFlrYUQbhnOR        AMZN    Amazon   \n",
       "3          BT   Allison    Davis  TzqyQTQjZGeLZuJqlLaQ        AMZN    Amazon   \n",
       "4          SZ     Blake   Martin  WVcMKILUHtBkEahrPLrG          FB  Facebook   \n",
       "\n",
       "       tradeId       price  volume        tradeDatetime  \n",
       "0          NaN  1701.76000    58.0  2020-04-03 07:03:32  \n",
       "1  P5-3756422C         NaN    98.0  2020-01-13 08:29:53  \n",
       "2  X0-7401234c  1857.63056     NaN  2020-07-16 07:18:39  \n",
       "3  K3-3189326K  2078.44030    32.0  2020-07-07 13:59:03  \n",
       "4  U4-1266883G  1809.60000   212.0  2020-08-01 02:57:54  "
      ]
     },
     "execution_count": 18,
     "metadata": {},
     "output_type": "execute_result"
    }
   ],
   "source": [
    "traders_data = pd.read_csv('traders_data.csv', encoding='latin')\n",
    "\n",
    "# Looking at sample rows in the data\n",
    "traders_data.head()"
   ]
  },
  {
   "cell_type": "markdown",
   "metadata": {},
   "source": [
    "#### Delete duplicate data"
   ]
  },
  {
   "cell_type": "code",
   "execution_count": 21,
   "metadata": {},
   "outputs": [
    {
     "name": "stdout",
     "output_type": "stream",
     "text": [
      "Shape before deleting duplicate values: (1000, 10)\n",
      "Shape After deleting duplicate values: (1000, 10)\n"
     ]
    }
   ],
   "source": [
    "print('Shape before deleting duplicate values:', traders_data.shape)\n",
    "# Removing duplicate rows if any\n",
    "traders_data = traders_data.drop_duplicates()\n",
    "print('Shape After deleting duplicate values:', traders_data.shape)"
   ]
  },
  {
   "cell_type": "code",
   "execution_count": 22,
   "metadata": {},
   "outputs": [
    {
     "data": {
      "text/plain": [
       "Index(['countryCode', 'firstName', 'lastName', 'traderId', 'stockSymbol',\n",
       "       'stockName', 'tradeId', 'price', 'volume', 'tradeDatetime'],\n",
       "      dtype='object')"
      ]
     },
     "execution_count": 22,
     "metadata": {},
     "output_type": "execute_result"
    }
   ],
   "source": [
    "traders_data.columns"
   ]
  },
  {
   "cell_type": "markdown",
   "metadata": {},
   "source": [
    "#### Basic Data Exploration"
   ]
  },
  {
   "cell_type": "code",
   "execution_count": 20,
   "metadata": {},
   "outputs": [
    {
     "name": "stdout",
     "output_type": "stream",
     "text": [
      "<class 'pandas.core.frame.DataFrame'>\n",
      "Int64Index: 1000 entries, 0 to 999\n",
      "Data columns (total 10 columns):\n",
      " #   Column         Non-Null Count  Dtype  \n",
      "---  ------         --------------  -----  \n",
      " 0   countryCode    795 non-null    object \n",
      " 1   firstName      795 non-null    object \n",
      " 2   lastName       795 non-null    object \n",
      " 3   traderId       795 non-null    object \n",
      " 4   stockSymbol    913 non-null    object \n",
      " 5   stockName      913 non-null    object \n",
      " 6   tradeId        909 non-null    object \n",
      " 7   price          898 non-null    float64\n",
      " 8   volume         895 non-null    float64\n",
      " 9   tradeDatetime  902 non-null    object \n",
      "dtypes: float64(2), object(8)\n",
      "memory usage: 85.9+ KB\n"
     ]
    }
   ],
   "source": [
    "# Observing the summarized information of data\n",
    "# Data types, Missing values based on number of non-null values Vs total rows etc.\n",
    "traders_data.info()"
   ]
  },
  {
   "cell_type": "markdown",
   "metadata": {},
   "source": [
    "**Highlights**\n",
    "\n",
    "* Dataset contains details of 1000 trading details in 10 features.\n",
    "* Every feature have missing values.\n",
    "* tradeDatetime data type is string that need to convert to datatime.\n",
    "* Memory Usage: 78.2 KB"
   ]
  },
  {
   "cell_type": "markdown",
   "metadata": {},
   "source": [
    "#### Date preprocessing"
   ]
  },
  {
   "cell_type": "code",
   "execution_count": null,
   "metadata": {},
   "outputs": [],
   "source": [
    "# Updating datatype of 'tradeDatetime' from string to datetime\n",
    "traders_data['tradeDatetime'] = pd.to_datetime(traders_data['tradeDatetime'])\n",
    "# traders_data['tradeDate'] = (traders_data['tradeDatetime']).apply(lambda x: pd.to_datetime(x.date()))\n",
    "\n",
    "\n",
    "# Removing the time stamp from the datatime \n",
    "traders_data['tradeDate'] = traders_data['tradeDatetime'].apply(lambda x: pd.to_datetime(x.date()))\n",
    "\n",
    "traders_data['tradeDate'] = pd.to_datetime(traders_data['tradeDate'])"
   ]
  },
  {
   "cell_type": "code",
   "execution_count": null,
   "metadata": {},
   "outputs": [],
   "source": [
    "traders_data.info()"
   ]
  },
  {
   "cell_type": "code",
   "execution_count": null,
   "metadata": {},
   "outputs": [],
   "source": [
    "traders_data.head()"
   ]
  },
  {
   "cell_type": "code",
   "execution_count": null,
   "metadata": {},
   "outputs": [],
   "source": [
    "# Looking at the descriptive statistics of the data\n",
    "traders_data.describe()"
   ]
  },
  {
   "cell_type": "code",
   "execution_count": null,
   "metadata": {},
   "outputs": [],
   "source": [
    "# Finding unique values for each column\n",
    "# TO understand which column is categorical and which one is Continuous\n",
    "# Typically if the numer of unique values are < 20 then the variable is likely to be a category otherwise continuous\n",
    "traders_data.nunique()"
   ]
  },
  {
   "cell_type": "markdown",
   "metadata": {},
   "source": [
    "#### Data Cleaning\n",
    "Trade dataset contains trading details for Amazon, Facebook, Tesla, however our objective is to find suspicous data for Amazon for Feb and March month. So dataset need to remove the unnecessary data from traders dataset."
   ]
  },
  {
   "cell_type": "code",
   "execution_count": null,
   "metadata": {},
   "outputs": [],
   "source": [
    "# Date range of traders dataset\n",
    "print('Traders dataset start date : ',traders_data['tradeDate'].min())\n",
    "print('Traders dataset end date : ',traders_data['tradeDate'].max())"
   ]
  },
  {
   "cell_type": "markdown",
   "metadata": {},
   "source": [
    "Traders dataset contains data from Jan to Aug 2020. However our objective is to find fraud traders for Feb & March, 2020. So now, we keep the data only for Feb and March."
   ]
  },
  {
   "cell_type": "code",
   "execution_count": null,
   "metadata": {},
   "outputs": [],
   "source": [
    "traders_data.shape"
   ]
  },
  {
   "cell_type": "code",
   "execution_count": null,
   "metadata": {},
   "outputs": [],
   "source": [
    "# Define function to filter dataset\n",
    "def filter_trader_data(df, company, start_date, end_date):\n",
    "    '''\n",
    "    Returns the filtered trader data based on company, start date and end date.\n",
    "\n",
    "    Parameters:\n",
    "        df (dataframe):The trader data which is to be filter.\n",
    "        company (string): Company by which trader data need to filter.\n",
    "        start_date (string) : Start date from where trader data require.\n",
    "        end_date (string) : End date till trader data require.\n",
    "        \n",
    "\n",
    "    Returns:\n",
    "        The trader dataframe which gets filtered.   \n",
    "    '''\n",
    "    return df[(df['stockSymbol']==company) & \n",
    "                            (df['tradeDate']>=start_date) & \n",
    "                            (df['tradeDatetime']<=end_date)].reset_index(drop=True)"
   ]
  },
  {
   "cell_type": "code",
   "execution_count": null,
   "metadata": {},
   "outputs": [],
   "source": [
    "traders_data = filter_trader_data(traders_data,'AMZN','2020-02-01','2020-03-31')"
   ]
  },
  {
   "cell_type": "code",
   "execution_count": null,
   "metadata": {},
   "outputs": [],
   "source": [
    "traders_data.shape"
   ]
  },
  {
   "cell_type": "code",
   "execution_count": null,
   "metadata": {},
   "outputs": [],
   "source": [
    "traders_data.info()"
   ]
  },
  {
   "cell_type": "markdown",
   "metadata": {},
   "source": [
    "#### Missing Data"
   ]
  },
  {
   "cell_type": "code",
   "execution_count": null,
   "metadata": {},
   "outputs": [],
   "source": [
    "# Find missing data and their percentage\n",
    "total = traders_data.isnull().sum().sort_values(ascending=False)\n",
    "percent = ((traders_data.isnull().sum()/traders_data.isnull().count())*100).sort_values(ascending=False)\n",
    "missing_data = pd.concat([total, percent], axis=1, keys=['Total', 'Percent'])\n",
    "missing_data.head(20)"
   ]
  },
  {
   "cell_type": "markdown",
   "metadata": {},
   "source": [
    "**Highlights**\n",
    "\n",
    "* About 24.5% of data are missing from firstName, lastName and countryCode. It will be not effective if will impute these missing values with their mode values. So, deleting the missing values somewhat usually not the best solution. However, it can be useful when most values in a column are missing."
   ]
  },
  {
   "cell_type": "code",
   "execution_count": null,
   "metadata": {},
   "outputs": [],
   "source": [
    "# View null values of dataset\n",
    "# traders_data[traders_data.isnull().any(axis=1)]\n",
    "# traders_data[traders_data['price'].isnull()]"
   ]
  },
  {
   "cell_type": "markdown",
   "metadata": {},
   "source": [
    "#### Missing values treatment"
   ]
  },
  {
   "cell_type": "code",
   "execution_count": null,
   "metadata": {},
   "outputs": [],
   "source": [
    "# Deleting the missing values\n",
    "traders_data.dropna(axis=0, inplace=True)\n",
    "\n",
    "# Reset the index of traders dataset\n",
    "traders_data.reset_index(drop=True)\n",
    "\n",
    "# Finally check the summary of trader dataset\n",
    "traders_data.info()"
   ]
  },
  {
   "cell_type": "code",
   "execution_count": null,
   "metadata": {},
   "outputs": [],
   "source": [
    "# Reset the index of stock dataset\n",
    "stock_data.reset_index(drop=True)\n",
    "\n",
    "# Finally check the summary of stock dataset\n",
    "stock_data.info()"
   ]
  },
  {
   "cell_type": "markdown",
   "metadata": {},
   "source": [
    "### Merger the both datasets"
   ]
  },
  {
   "cell_type": "code",
   "execution_count": null,
   "metadata": {},
   "outputs": [],
   "source": [
    "'''\n",
    "Merge the trader dataset and stock dataset based on the key, trading date and stock date. \n",
    "Use keys from the trader dataset only, as on same date many traders can trade. \n",
    "'''\n",
    "\n",
    "merge_data = pd.merge(traders_data, stock_data, how='left', left_on='tradeDate', right_on='date', \n",
    "                      left_index=True, right_index=False)"
   ]
  },
  {
   "cell_type": "code",
   "execution_count": null,
   "metadata": {},
   "outputs": [],
   "source": [
    "# Lets check quickly data after merging for any particular date\n",
    "merge_data[merge_data['tradeDate'] == '2020-02-10']"
   ]
  },
  {
   "cell_type": "code",
   "execution_count": null,
   "metadata": {},
   "outputs": [],
   "source": [
    "# Checking datasets size\n",
    "print(traders_data.shape)\n",
    "print(stock_data.shape)\n",
    "print(merge_data.shape)"
   ]
  },
  {
   "cell_type": "code",
   "execution_count": null,
   "metadata": {},
   "outputs": [],
   "source": [
    "merge_data.head()"
   ]
  },
  {
   "cell_type": "markdown",
   "metadata": {},
   "source": [
    "### Logic to find fraud trading"
   ]
  },
  {
   "cell_type": "code",
   "execution_count": null,
   "metadata": {},
   "outputs": [],
   "source": [
    "# Define function to find fraud traders\n",
    "def find_fraud_trader(df):\n",
    "    '''\n",
    "    Returns the trader dataset with label 'suspicious' to find whether trade is fraud or genue.\n",
    "    \n",
    "    To be a suspicious trade consider the following rules:\n",
    "    - The trader has submitted an order above the high price/below the low price for a given day of a stock.\n",
    "    - The trader has submitted an order in a date when the stock was not traded.\n",
    "\n",
    "    Parameters:\n",
    "        df (dataframe):The trader data which is to be labelled.\n",
    "       \n",
    "    Returns:\n",
    "        The trader dataframe with label 'suspicious'. \n",
    "        If suspicious is true, means its a fraud trader else genue trader.  \n",
    "    '''\n",
    "    # By default make all rows as fraud trading, then apply logic and update the label.\n",
    "    df['suspicious'] = True\n",
    "    df['suspicious'] = df.apply(lambda row:True \n",
    "                                            if(pd.isnull(row['high']) | (row['price'] > row['high']) | (row['price'] < row['low']))\n",
    "                                            else False, axis=1)\n",
    "    \n",
    "    return df"
   ]
  },
  {
   "cell_type": "code",
   "execution_count": null,
   "metadata": {},
   "outputs": [],
   "source": [
    "merge_data = find_fraud_trader(merge_data)"
   ]
  },
  {
   "cell_type": "code",
   "execution_count": null,
   "metadata": {},
   "outputs": [],
   "source": [
    "print(\"Number of trading : \",merge_data.shape[0])\n",
    "print(\"Number of suspicious trading : \",merge_data[merge_data['suspicious']==True].shape[0])\n",
    "print(\"Number of genuine trading : \",merge_data[merge_data['suspicious']==False].shape[0])"
   ]
  },
  {
   "cell_type": "code",
   "execution_count": null,
   "metadata": {},
   "outputs": [],
   "source": [
    "merge_data.columns"
   ]
  },
  {
   "cell_type": "code",
   "execution_count": null,
   "metadata": {},
   "outputs": [],
   "source": [
    "merge_data[merge_data['traderId'] == 'pjjFIyeNTWRUWCuKoQSU']"
   ]
  },
  {
   "cell_type": "code",
   "execution_count": null,
   "metadata": {},
   "outputs": [],
   "source": [
    "# Rearrange and select necessary columns\n",
    "data_label = merge_data[['tradeDate','countryCode', 'firstName', 'lastName', 'traderId', 'stockSymbol',\n",
    "        'tradeId', 'price', 'volume_x', 'high', 'low', 'open', 'close', 'adj close','suspicious']]"
   ]
  },
  {
   "cell_type": "code",
   "execution_count": null,
   "metadata": {},
   "outputs": [],
   "source": [
    "# Rename columns to more appropriate\n",
    "data_label.rename(columns={'price': 'tradePrice','volume_x': 'tradeVolume',\n",
    "                           'high': 'stockHighPrice','low': 'stockLowPrice',\n",
    "                           'open': 'stockOpenPrice','close': 'stockClosePrice',\n",
    "                           'adj close': 'stockAdjClosePrice'}, inplace=True)\n",
    "data_label.shape"
   ]
  },
  {
   "cell_type": "markdown",
   "metadata": {},
   "source": [
    "#### Count unique values of suspicious"
   ]
  },
  {
   "cell_type": "code",
   "execution_count": null,
   "metadata": {},
   "outputs": [],
   "source": [
    "print(data_label['suspicious'].value_counts())\n",
    "print('\\n')\n",
    "print(data_label['suspicious'].value_counts(normalize=True))"
   ]
  },
  {
   "cell_type": "code",
   "execution_count": null,
   "metadata": {},
   "outputs": [],
   "source": [
    "# Plot Pie chart for suspicious vs genue trading distribution\n",
    "data_label[\"suspicious\"].value_counts().plot(kind = 'pie',explode=[0, 0.1],figsize=(6, 6),\n",
    "                                             autopct='%1.1f%%',shadow=True)\n",
    "plt.title(\"Suspicious and Non-suspicious Distribution\",fontsize=20)\n",
    "plt.legend([\"Suspicious\", \"Genuine\"])\n",
    "plt.show()"
   ]
  },
  {
   "cell_type": "markdown",
   "metadata": {},
   "source": [
    "**Hightlights**\n",
    "\n",
    "* About 92.7% trading are fraud and only 7.3% are genuine."
   ]
  },
  {
   "cell_type": "markdown",
   "metadata": {},
   "source": [
    "### Traders Suspicious analysis"
   ]
  },
  {
   "cell_type": "markdown",
   "metadata": {},
   "source": [
    "#### Top Fraud Traders"
   ]
  },
  {
   "cell_type": "code",
   "execution_count": null,
   "metadata": {},
   "outputs": [],
   "source": [
    "# Filter to only fraud data\n",
    "fraud_data = data_label[data_label['suspicious']==True]\n",
    "fraud_data.shape"
   ]
  },
  {
   "cell_type": "code",
   "execution_count": null,
   "metadata": {},
   "outputs": [],
   "source": [
    "fraud_data['traderId'].value_counts()"
   ]
  },
  {
   "cell_type": "code",
   "execution_count": null,
   "metadata": {},
   "outputs": [],
   "source": [
    "fraud_data.columns"
   ]
  },
  {
   "cell_type": "code",
   "execution_count": null,
   "metadata": {},
   "outputs": [],
   "source": [
    "# Finding frequency of each fraud trader\n",
    "freq_fraud_data = fraud_data[['traderId','firstName', 'lastName','countryCode']]\n",
    "freq_fraud_data.drop_duplicates(inplace=True)\n",
    "\n",
    "\n",
    "# freq_fraud_data = fraud_data.groupby(['traderId','firstName', 'lastName']).count()\n",
    "# # freq_fraud_data = freq_fraud_data[['traderId','firstName', 'lastName','countryCode', ]].reset_index(drop=True)\n",
    "freq_fraud_data.reset_index(drop=True)\n",
    "\n",
    "# freq_fraud_data['traderFreq'] = freq_fraud_data.groupby('traderId')['traderId'].transform('count')\n",
    "\n",
    "# freq_fraud_data.head(45)"
   ]
  },
  {
   "cell_type": "code",
   "execution_count": null,
   "metadata": {},
   "outputs": [],
   "source": [
    "# Finding frequency of each fraud trader\n",
    "traderFreq = fraud_data.groupby(['traderId'])['traderId'].count()\n",
    "traderFreq = pd.DataFrame({'traderId':traderFreq.index, 'traderFreq':traderFreq.values}).reset_index(drop=True)\n",
    "\n",
    "# Merge two dataframes based on patient's ids.\n",
    "freq_fraud_data = pd.merge(freq_fraud_data,traderFreq,how='inner',on='traderId')\n",
    "\n",
    "freq_fraud_data.sort_values(by='traderFreq', ascending=False)"
   ]
  },
  {
   "cell_type": "markdown",
   "metadata": {},
   "source": [
    "### Top Fraud Countries"
   ]
  },
  {
   "cell_type": "code",
   "execution_count": null,
   "metadata": {},
   "outputs": [],
   "source": [
    "freq_fraud_data['countryFreq'] = freq_fraud_data.groupby('countryCode')['countryCode'].transform('count')\n",
    "freq_fraud_data"
   ]
  },
  {
   "cell_type": "code",
   "execution_count": null,
   "metadata": {},
   "outputs": [],
   "source": [
    "# Checking volume ratio of trading for suspicious and genuine\n",
    "sns.barplot(x='suspicious', y='tradeVolume', data=data_label)\n",
    "plt.show()"
   ]
  },
  {
   "cell_type": "markdown",
   "metadata": {},
   "source": [
    "This shows that volumen of suspicious trading is than genuine trading."
   ]
  },
  {
   "cell_type": "code",
   "execution_count": null,
   "metadata": {},
   "outputs": [],
   "source": [
    "# Checking price ratio of trading for suspicious and genuine\n",
    "sns.barplot(x='suspicious', y='tradePrice', data=data_label)"
   ]
  },
  {
   "cell_type": "markdown",
   "metadata": {},
   "source": [
    "Average price of trading is towards suspicious trading."
   ]
  },
  {
   "cell_type": "markdown",
   "metadata": {},
   "source": [
    "### Trader rank by number of suspicious orders"
   ]
  },
  {
   "cell_type": "code",
   "execution_count": null,
   "metadata": {},
   "outputs": [],
   "source": [
    "# Trader rank by number of suspicious orders\n",
    "freq_fraud_data['traderRank'] = freq_fraud_data['traderFreq'].rank(ascending=False)\n",
    "freq_fraud_data.sort_values(by='traderRank')"
   ]
  },
  {
   "cell_type": "markdown",
   "metadata": {},
   "source": [
    "* Trader Scott Thompson of country MK is on the top position in the list of top fraud traders with 5 fraud trading.\n",
    "* Other rank position have more than one trader."
   ]
  },
  {
   "cell_type": "markdown",
   "metadata": {},
   "source": [
    "### Correlation of nationality with fraud traders"
   ]
  },
  {
   "cell_type": "code",
   "execution_count": null,
   "metadata": {},
   "outputs": [],
   "source": [
    "freq_fraud_data[['traderFreq','countryFreq']].corr()"
   ]
  },
  {
   "cell_type": "code",
   "execution_count": null,
   "metadata": {},
   "outputs": [],
   "source": [
    "# Lets find correlation between the nationality of the trader and the tendency to make suspicious orders \n",
    "plt.title('Pearson Correlation Matrix between Trader Frequency & their Country')\n",
    "sns.heatmap(freq_fraud_data[['traderFreq','countryFreq']].corr(),linewidths=0.25,vmax=0.7,square=True,\n",
    "            cmap=\"winter\", linecolor='w',annot=True) \n",
    "plt.show()"
   ]
  },
  {
   "cell_type": "markdown",
   "metadata": {},
   "source": [
    "There is no relation between frequency of making suspicious order of a particular trader to his country."
   ]
  },
  {
   "cell_type": "code",
   "execution_count": null,
   "metadata": {},
   "outputs": [],
   "source": [
    "sns.scatterplot(x='traderFreq', y='countryFreq', data=freq_fraud_data)\n",
    "plt.show()"
   ]
  },
  {
   "cell_type": "markdown",
   "metadata": {},
   "source": [
    "# PyTest"
   ]
  },
  {
   "cell_type": "code",
   "execution_count": null,
   "metadata": {},
   "outputs": [],
   "source": [
    "import pytest\n",
    "import sys\n",
    "\n",
    "print(f\"PyTest version : PyTest {pytest.__version__}\")"
   ]
  },
  {
   "cell_type": "code",
   "execution_count": null,
   "metadata": {},
   "outputs": [],
   "source": [
    "def test_stock_company():\n",
    "    assert stock == \"AMZN\""
   ]
  },
  {
   "cell_type": "code",
   "execution_count": null,
   "metadata": {},
   "outputs": [],
   "source": []
  }
 ],
 "metadata": {
  "kernelspec": {
   "display_name": "Python 3",
   "language": "python",
   "name": "python3"
  },
  "language_info": {
   "codemirror_mode": {
    "name": "ipython",
    "version": 3
   },
   "file_extension": ".py",
   "mimetype": "text/x-python",
   "name": "python",
   "nbconvert_exporter": "python",
   "pygments_lexer": "ipython3",
   "version": "3.8.3"
  }
 },
 "nbformat": 4,
 "nbformat_minor": 2
}
